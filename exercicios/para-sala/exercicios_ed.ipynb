{
 "cells": [
  {
   "cell_type": "code",
   "execution_count": 2,
   "metadata": {},
   "outputs": [
    {
     "name": "stdout",
     "output_type": "stream",
     "text": [
      "maça\n",
      "banana\n",
      "pão\n",
      "leite\n",
      "queijo\n"
     ]
    }
   ],
   "source": [
    "lista_de_compras = [\"maça\", \"banana\", \"pão\", \"leite\", \"queijo\"]\n",
    "\n",
    "for item in lista_de_compras:\n",
    "    print(item)"
   ]
  },
  {
   "cell_type": "markdown",
   "metadata": {},
   "source": [
    "Exercício 3: Trabalhando com Tuplas\n",
    "\n",
    "Objetivo: Criar uma tupla com nomes de cores e imprimir cada cor."
   ]
  },
  {
   "cell_type": "code",
   "execution_count": 3,
   "metadata": {},
   "outputs": [
    {
     "name": "stdout",
     "output_type": "stream",
     "text": [
      "Vermelho\n",
      "Verde\n",
      "Azul\n",
      "Amarelo\n",
      "Roxo\n"
     ]
    }
   ],
   "source": [
    "cores = (\"Vermelho\", \"Verde\", \"Azul\", \"Amarelo\", \"Roxo\")\n",
    "\n",
    "for cor in cores:\n",
    "    print(cor)"
   ]
  },
  {
   "cell_type": "markdown",
   "metadata": {},
   "source": [
    "Exercício 2: Trabalhando com Dicionários\n",
    "\n",
    "Definindo um dicionário com informações sobre filmes"
   ]
  },
  {
   "cell_type": "code",
   "execution_count": 5,
   "metadata": {},
   "outputs": [
    {
     "name": "stdout",
     "output_type": "stream",
     "text": [
      "O filme Star Wars é do gênero  Ficção Científica\n",
      "O filme Jurassic Park é do gênero Aventura\n",
      "O filme Toy Story é do gênero Animação\n"
     ]
    }
   ],
   "source": [
    "filmes = {\n",
    "    \"Star Wars\" : \"Ficção Científica\",\n",
    "    \"Jurassic Park\" : \"Aventura\",\n",
    "    \"Toy Story\" : \"Animação\"\n",
    "}\n",
    "\n",
    "for filme, genero in filmes.items():\n",
    "    print(f\"O filme {filme} é do gênero {genero}\")"
   ]
  }
 ],
 "metadata": {
  "kernelspec": {
   "display_name": "Python 3",
   "language": "python",
   "name": "python3"
  },
  "language_info": {
   "codemirror_mode": {
    "name": "ipython",
    "version": 3
   },
   "file_extension": ".py",
   "mimetype": "text/x-python",
   "name": "python",
   "nbconvert_exporter": "python",
   "pygments_lexer": "ipython3",
   "version": "3.11.4"
  }
 },
 "nbformat": 4,
 "nbformat_minor": 2
}
